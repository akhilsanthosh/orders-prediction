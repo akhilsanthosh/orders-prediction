#import the lib

 import pandas as pd 
 import numpy as np
 
data=pd.read_csv("supplement.csv")
dataset

dataset.info()

dataset.isnull.sum()

dataset.describe()

#pip install plotly in cmd prompt
import plotly.express as px

pie=data["Store_id"].value_counts()
store=pie.index
orders=pie.values
fig=px.pie(dataset, values=orders, name=store)
fi.show()


